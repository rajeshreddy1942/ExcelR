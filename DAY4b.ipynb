{
 "cells": [
  {
   "cell_type": "code",
   "execution_count": null,
   "id": "4fedc6c7-eaea-481b-beea-8ea6a1242d5b",
   "metadata": {},
   "outputs": [],
   "source": [
    "def sum_of_even_numbers(n):\n",
    "    sum_even = 0\n",
    "    for i in range(2, n + 1, 2):\n",
    "        sum_even += i\n",
    "    return sum_even\n",
    "\n",
    "n = int(input(\"Enter a positive integer: \"))\n",
    "\n",
    "sum_even = sum_of_even_numbers(n)\n",
    "print(\"Sum of all even numbers between 1 and\", n, \"is:\", sum_even)\n"
   ]
  },
  {
   "cell_type": "code",
   "execution_count": null,
   "id": "a47fdd37-fcb2-4095-bf9f-81fa71107b95",
   "metadata": {},
   "outputs": [],
   "source": []
  }
 ],
 "metadata": {
  "kernelspec": {
   "display_name": "Python [conda env:base] *",
   "language": "python",
   "name": "conda-base-py"
  },
  "language_info": {
   "codemirror_mode": {
    "name": "ipython",
    "version": 3
   },
   "file_extension": ".py",
   "mimetype": "text/x-python",
   "name": "python",
   "nbconvert_exporter": "python",
   "pygments_lexer": "ipython3",
   "version": "3.12.7"
  }
 },
 "nbformat": 4,
 "nbformat_minor": 5
}
