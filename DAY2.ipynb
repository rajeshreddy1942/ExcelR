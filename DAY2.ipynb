{
 "cells": [
  {
   "cell_type": "code",
   "execution_count": 18,
   "id": "ab56be3b-cfc9-4330-9fbc-01b9a1926b10",
   "metadata": {},
   "outputs": [
    {
     "name": "stdout",
     "output_type": "stream",
     "text": [
      "List: [10, 20, 30, 40, 50]\n",
      "First element: 10\n",
      "Third element: 30\n",
      "Last element: 50\n"
     ]
    }
   ],
   "source": [
    "my_list = [10, 20, 30, 40, 50]\n",
    "first_element = my_list[0]\n",
    "third_element = my_list[2]\n",
    "last_element = my_list[-1]\n",
    "\n",
    "print(\"List:\", my_list)\n",
    "print(\"First element:\", first_element)\n",
    "print(\"Third element:\", third_element)\n",
    "print(\"Last element:\", last_element)\n"
   ]
  },
  {
   "cell_type": "code",
   "execution_count": 22,
   "id": "2d116020-4d1b-45d5-815d-2dd075962784",
   "metadata": {},
   "outputs": [
    {
     "name": "stdout",
     "output_type": "stream",
     "text": [
      "Tuple: (100, 200, 300, 400, 500)\n",
      "First element: 100\n",
      "Third element: 300\n",
      "Last element: 500\n"
     ]
    }
   ],
   "source": [
    "my_tuple = (100, 200, 300, 400, 500)\n",
    "first_element = my_tuple[0]\n",
    "third_element = my_tuple[2]\n",
    "last_element = my_tuple[-1]\n",
    "\n",
    "print(\"Tuple:\", my_tuple)\n",
    "print(\"First element:\", first_element)\n",
    "print(\"Third element:\", third_element)\n",
    "print(\"Last element:\", last_element)\n"
   ]
  },
  {
   "cell_type": "code",
   "execution_count": null,
   "id": "66ce26a2-1204-4155-856a-28173fa6234a",
   "metadata": {},
   "outputs": [],
   "source": []
  },
  {
   "cell_type": "code",
   "execution_count": null,
   "id": "08999869-5525-4c09-9f85-5cd0e71dbb11",
   "metadata": {},
   "outputs": [],
   "source": []
  }
 ],
 "metadata": {
  "kernelspec": {
   "display_name": "Python [conda env:base] *",
   "language": "python",
   "name": "conda-base-py"
  },
  "language_info": {
   "codemirror_mode": {
    "name": "ipython",
    "version": 3
   },
   "file_extension": ".py",
   "mimetype": "text/x-python",
   "name": "python",
   "nbconvert_exporter": "python",
   "pygments_lexer": "ipython3",
   "version": "3.12.7"
  }
 },
 "nbformat": 4,
 "nbformat_minor": 5
}
